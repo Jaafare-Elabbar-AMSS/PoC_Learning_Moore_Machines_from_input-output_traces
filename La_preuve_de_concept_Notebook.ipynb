{
 "cells": [
  {
   "cell_type": "markdown",
   "metadata": {},
   "source": [
    "# Analyse et résumé de la reproductibilité des expériences\n",
    "\n",
    "Ce carnet jupyter explique le processus d'analyse et de reproduction des expériences du papier **\"Learning Moore Machines from Input-Output Traces\"**. Le travail inclut la configuration de l'environnement, l'exécution des expériences telles que décrites dans le papier et dans le dépôt GitHub associé, et l'analyse critique des résultats.\n",
    "\n",
    "---\n",
    "\n",
    "## Objectifs :\n",
    "1. Reproduire les expériences menées par les chercheurs, auteurs de la publication, à l'aide du code fourni.\n",
    "2. Analyser la configuration des expériences, leur mise en œuvre et leurs résultats.\n",
    "3. Documenter les observations, les défis rencontrés et les enseignements pour une compréhension approfondie et de futures travaux de recherches basées sur ce papier.\n",
    "\n",
    "---\n",
    "\n",
    "**Lien vers le dépôt GitHub des auteurs :** [Dépôt GitHub associé à la publication](https://github.com/ggiorikas/FSM-learning)\n",
    "\n",
    "---\n",
    "\n",
    "### Plan :\n",
    "1. **Configuration de l'environnement** : guide étape par étape pour configurer l'environnement selon les spécifications des auteurs.\n",
    "2. **Exécution des expériences** : lancement et relance des expériences, gestion des problèmes de mémoire, et suivi de la progression.\n",
    "3. **Analyse des résultats** : étude des sorties stockées dans `all-results.txt` et interprétation des résultats obtenus.\n",
    "4. **Observations critiques** : défis rencontrés et suggestions d'amélioration.\n",
    "5. **Conclusion** : résumé des observations et prochaines étapes."
   ]
  },
  {
   "cell_type": "markdown",
   "metadata": {},
   "source": [
    "## Configuration de l'environnement\n",
    "\n",
    "La configuration de l'environnement nécessaire pour reproduire les expériences telles que décrites dans le papier.\n",
    "\n",
    "### Prérequis :\n",
    "1. **Python version 2.7** : utilisé pour la génération des traces et pour les étapes intermédiaires du traitement.\n",
    "2. **Langage D (D Compiler)** : utilisé pour exécuter les scripts principaux, notamment ceux permettant de faire l'expérience d'apprentissage des machines de Moore.\n",
    "3. **Dépendances supplémentaires** :\n",
    "   - Mémoire vive suffisante pour éviter les arrêts fréquents dus à des limites de mémoire.\n",
    "   - Accès à un système compatible (Linux, Windows, ou MacOS).\n",
    "\n",
    "### Vérification de l'environnement :\n",
    "Les commandes ci-dessous permettent de vérifier que les outils nécessaires sont correctement installés et configurés selon ce qui a été demandé par les auteurs (voir [Dépôt GitHub associé à la publication](https://github.com/ggiorikas/FSM-learning)) :\n",
    "- **Vérification de la version de Python :**"
   ]
  },
  {
   "cell_type": "code",
   "execution_count": null,
   "metadata": {
    "vscode": {
     "languageId": "powershell"
    }
   },
   "outputs": [],
   "source": [
    "$ python --version"
   ]
  },
  {
   "cell_type": "markdown",
   "metadata": {
    "vscode": {
     "languageId": "powershell"
    }
   },
   "source": [
    "- **Vérification de la version du compilateur D :**"
   ]
  },
  {
   "cell_type": "code",
   "execution_count": null,
   "metadata": {
    "vscode": {
     "languageId": "powershell"
    }
   },
   "outputs": [],
   "source": [
    "$ dmd --version"
   ]
  },
  {
   "cell_type": "markdown",
   "metadata": {},
   "source": [
    "## Une fois que ces versions sont validées, vous pouvez passer à l'exécution des expériences.\n",
    "\n",
    "### Méthodologie\n",
    "Les expériences suivent les étapes suivantes :\n",
    "\n",
    "1. **Génération des Machines de Moore** :\n",
    "   - Machines aléatoires générées avec un nombre spécifique d'états, d'entrées et de sorties.\n",
    "\n",
    "2. **Génération des Traces d'Entraînement et de Test** :\n",
    "   - Les machines générées sont utilisées pour produire des traces qui servent à l'apprentissage et à l'évaluation.\n",
    "\n",
    "3. **Application des Algorithmes d'Apprentissage** :\n",
    "   - Trois algorithmes sont utilisés :\n",
    "     - **Algorithme 1** : apprentissage basique.\n",
    "     - **Algorithme 2** : amélioration avec un processus d'agrégation d'états.\n",
    "     - **Algorithme 3** : optimisation avancée pour une précision élevée. (algorithme choisi pour notre étude)\n",
    "\n",
    "4. **Évaluation de la Précision** :\n",
    "   - Les machines apprises sont évaluées selon trois politiques :\n",
    "     - **Faible (Weak)** : évaluation basique.\n",
    "     - **Moyenne (Medium)** : évaluation intermédiaire.\n",
    "     - **Forte (Strong)** : évaluation stricte (isomorphisme avec la machine originale).\n",
    "\n",
    "### Commandes Principales\n",
    "Les commandes suivantes sont utilisées pour exécuter les expériences :\n",
    "\n",
    "- **Expérience d'apprentissage des machines de Moore génerées aléatoirement :**"
   ]
  },
  {
   "cell_type": "code",
   "execution_count": null,
   "metadata": {
    "vscode": {
     "languageId": "powershell"
    }
   },
   "outputs": [],
   "source": [
    "$ dmd -m64 -i -O -release -inline -boundscheck=off generate.d\n",
    "$ dmd -m64 -i -O -release -inline -boundscheck=off run_rand_fsm_experiments.d\n",
    "$ ./run_rand_fsm_experiments"
   ]
  },
  {
   "cell_type": "markdown",
   "metadata": {
    "vscode": {
     "languageId": "powershell"
    }
   },
   "source": [
    "Les résultats seront stockés dans le fichier suivant :  \n",
    "`o/all-results.txt`\n",
    "\n",
    "En cas d'arrêt du processus dû à une utilisation excessive de mémoire (un message indiquant **\"out of memory\"** apparaît), il est nécessaire de relancer la commande. Le système utilise un mécanisme de mise en cache pour éviter de répéter les expériences déjà effectuées.\n",
    "\n",
    "- **Expérience d'apprentissage des machines de Moore de Benchmark**"
   ]
  },
  {
   "cell_type": "code",
   "execution_count": null,
   "metadata": {
    "vscode": {
     "languageId": "powershell"
    }
   },
   "outputs": [],
   "source": [
    "$ dmd -m64 -i -O -release -inline -boundscheck=off generate.d\n",
    "$ dmd -m64 -i -O -release -inline -boundscheck=off run_real_fsm_experiments.d\n",
    "$ ./run_rand_fsm_experiments"
   ]
  },
  {
   "cell_type": "markdown",
   "metadata": {},
   "source": [
    "Les résultats seront stockés dans le fichier suivant :  \n",
    "`o2/all-results.txt`"
   ]
  },
  {
   "cell_type": "markdown",
   "metadata": {},
   "source": []
  }
 ],
 "metadata": {
  "language_info": {
   "name": "python"
  }
 },
 "nbformat": 4,
 "nbformat_minor": 2
}
